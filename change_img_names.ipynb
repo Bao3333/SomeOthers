{
  "nbformat": 4,
  "nbformat_minor": 0,
  "metadata": {
    "colab": {
      "provenance": [],
      "authorship_tag": "ABX9TyPyOTmanpWaNIeRbOCj+3rd",
      "include_colab_link": true
    },
    "kernelspec": {
      "name": "python3",
      "display_name": "Python 3"
    },
    "language_info": {
      "name": "python"
    }
  },
  "cells": [
    {
      "cell_type": "markdown",
      "metadata": {
        "id": "view-in-github",
        "colab_type": "text"
      },
      "source": [
        "<a href=\"https://colab.research.google.com/github/Bao3333/SomeOthers/blob/main/change_img_names.ipynb\" target=\"_parent\"><img src=\"https://colab.research.google.com/assets/colab-badge.svg\" alt=\"Open In Colab\"/></a>"
      ]
    },
    {
      "cell_type": "code",
      "execution_count": null,
      "metadata": {
        "id": "_CocGZkHxxQe"
      },
      "outputs": [],
      "source": [
        "!unzip -q Coradion_altivelis.zip"
      ]
    },
    {
      "cell_type": "code",
      "source": [
        "#!rm -rf Heniochus_acuminatus "
      ],
      "metadata": {
        "id": "8SE9WX-U5sue"
      },
      "execution_count": null,
      "outputs": []
    },
    {
      "cell_type": "code",
      "source": [
        "# import os\n",
        "\n",
        "# path = \"HeniochusAcuminatus/\"\n",
        "# if not os.path.exists(path):\n",
        "#   os.mkdir(path)"
      ],
      "metadata": {
        "id": "x4EZL90y46rJ"
      },
      "execution_count": null,
      "outputs": []
    },
    {
      "cell_type": "code",
      "source": [
        "import os\n",
        "from glob import glob\n",
        "translist =  glob(\"Coradion_altivelis/*\")\n",
        "n = 1\n",
        "\n",
        "for i in translist:\n",
        "  os.rename(i, f\"Coradion_altivelis/CoradionAltivelis_{n}.jpg\")\n",
        "  print(i)\n",
        "  n += 1"
      ],
      "metadata": {
        "id": "5_Ql2iMZ6Ztg"
      },
      "execution_count": null,
      "outputs": []
    },
    {
      "cell_type": "code",
      "source": [
        "!zip -r CoradionAltivelis.zip Coradion_altivelis "
      ],
      "metadata": {
        "id": "8JPTZGHe-O2V"
      },
      "execution_count": null,
      "outputs": []
    }
  ]
}